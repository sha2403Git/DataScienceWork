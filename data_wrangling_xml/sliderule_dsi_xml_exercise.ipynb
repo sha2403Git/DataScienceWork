{
 "cells": [
  {
   "cell_type": "markdown",
   "metadata": {},
   "source": [
    "# XML example and exercise\n",
    "****\n",
    "+ study examples of accessing nodes in XML tree structure  \n",
    "+ work on exercise to be completed and submitted\n",
    "****\n",
    "+ reference: https://docs.python.org/2.7/library/xml.etree.elementtree.html\n",
    "+ data source: http://www.dbis.informatik.uni-goettingen.de/Mondial\n",
    "****"
   ]
  },
  {
   "cell_type": "code",
   "execution_count": 94,
   "metadata": {
    "collapsed": true
   },
   "outputs": [],
   "source": [
    "from xml.etree import ElementTree as ET"
   ]
  },
  {
   "cell_type": "markdown",
   "metadata": {},
   "source": [
    "## XML example\n",
    "\n",
    "+ for details about tree traversal and iterators, see https://docs.python.org/2.7/library/xml.etree.elementtree.html"
   ]
  },
  {
   "cell_type": "code",
   "execution_count": 95,
   "metadata": {
    "collapsed": false
   },
   "outputs": [
    {
     "data": {
      "text/plain": [
       "<xml.etree.ElementTree.ElementTree at 0x1153342b0>"
      ]
     },
     "execution_count": 95,
     "metadata": {},
     "output_type": "execute_result"
    }
   ],
   "source": [
    "document_tree = ET.parse('data/mondial_database_less.xml')\n",
    "document_tree"
   ]
  },
  {
   "cell_type": "code",
   "execution_count": 96,
   "metadata": {
    "collapsed": false
   },
   "outputs": [
    {
     "name": "stdout",
     "output_type": "stream",
     "text": [
      "Albania\n",
      "Greece\n",
      "Macedonia\n",
      "Serbia\n",
      "Montenegro\n",
      "Kosovo\n",
      "Andorra\n"
     ]
    }
   ],
   "source": [
    "# print names of all countries\n",
    "for child in document_tree.getroot():\n",
    "    print (child.find('name').text)"
   ]
  },
  {
   "cell_type": "code",
   "execution_count": 97,
   "metadata": {
    "collapsed": false
   },
   "outputs": [
    {
     "name": "stdout",
     "output_type": "stream",
     "text": [
      "*Albania:\n",
      "Tirana, Shkodër, Durrës, Vlorë, Elbasan, Korçë\n",
      "*Greece:\n",
      "Komotini, Kavala, Athina, Peiraias, Peristeri, Acharnes, Patra, Kozani, Kerkyra, Ioannina, Thessaloniki, Iraklio, Chania, Ermoupoli, Rhodes, Tripoli, Lamia, Chalkida, Larissa, Volos, Mytilini, Karyes\n",
      "*Macedonia:\n",
      "Skopje, Kumanovo\n",
      "*Serbia:\n",
      "Beograd, Novi Sad, Niš\n",
      "*Montenegro:\n",
      "Podgorica\n",
      "*Kosovo:\n",
      "Prishtine\n",
      "*Andorra:\n",
      "Andorra la Vella\n"
     ]
    }
   ],
   "source": [
    "# print names of all countries and their cities\n",
    "for element in document_tree.iterfind('country'):\n",
    "    print ('*' + element.find('name').text + ':'),\n",
    "    capitals_string = ''\n",
    "    for subelement in element.getiterator('city'):\n",
    "        capitals_string += subelement.find('name').text + ', '\n",
    "    print (capitals_string[:-2])"
   ]
  },
  {
   "cell_type": "markdown",
   "metadata": {},
   "source": [
    "****\n",
    "## XML exercise\n",
    "\n",
    "Using data in 'data/mondial_database.xml', the examples above, and refering to https://docs.python.org/2.7/library/xml.etree.elementtree.html, find\n",
    "\n",
    "1. 10 countries with the lowest infant mortality rates\n",
    "2. 10 cities with the largest population\n",
    "3. 10 ethnic groups with the largest overall populations (sum of best/latest estimates over all countries)\n",
    "4. name and country of a) longest river, b) largest lake and c) airport at highest elevation"
   ]
  },
  {
   "cell_type": "markdown",
   "metadata": {},
   "source": [
    "****\n",
    "## 10 countries with the lowest infant mortality rates"
   ]
  },
  {
   "cell_type": "code",
   "execution_count": 98,
   "metadata": {
    "collapsed": false
   },
   "outputs": [
    {
     "data": {
      "text/html": [
       "<div>\n",
       "<table border=\"1\" class=\"dataframe\">\n",
       "  <thead>\n",
       "    <tr style=\"text-align: right;\">\n",
       "      <th></th>\n",
       "      <th>Name</th>\n",
       "      <th>Mortality</th>\n",
       "    </tr>\n",
       "  </thead>\n",
       "  <tbody>\n",
       "    <tr>\n",
       "      <th>36</th>\n",
       "      <td>Monaco</td>\n",
       "      <td>1.81</td>\n",
       "    </tr>\n",
       "    <tr>\n",
       "      <th>28</th>\n",
       "      <td>Romania</td>\n",
       "      <td>10.16</td>\n",
       "    </tr>\n",
       "    <tr>\n",
       "      <th>142</th>\n",
       "      <td>Fiji</td>\n",
       "      <td>10.2</td>\n",
       "    </tr>\n",
       "    <tr>\n",
       "      <th>63</th>\n",
       "      <td>Brunei</td>\n",
       "      <td>10.48</td>\n",
       "    </tr>\n",
       "    <tr>\n",
       "      <th>124</th>\n",
       "      <td>Grenada</td>\n",
       "      <td>10.5</td>\n",
       "    </tr>\n",
       "    <tr>\n",
       "      <th>221</th>\n",
       "      <td>Mauritius</td>\n",
       "      <td>10.59</td>\n",
       "    </tr>\n",
       "    <tr>\n",
       "      <th>116</th>\n",
       "      <td>Panama</td>\n",
       "      <td>10.7</td>\n",
       "    </tr>\n",
       "    <tr>\n",
       "      <th>227</th>\n",
       "      <td>Seychelles</td>\n",
       "      <td>10.77</td>\n",
       "    </tr>\n",
       "    <tr>\n",
       "      <th>94</th>\n",
       "      <td>United Arab Emirates</td>\n",
       "      <td>10.92</td>\n",
       "    </tr>\n",
       "    <tr>\n",
       "      <th>105</th>\n",
       "      <td>Barbados</td>\n",
       "      <td>10.93</td>\n",
       "    </tr>\n",
       "  </tbody>\n",
       "</table>\n",
       "</div>"
      ],
      "text/plain": [
       "                     Name Mortality\n",
       "36                 Monaco      1.81\n",
       "28                Romania     10.16\n",
       "142                  Fiji      10.2\n",
       "63                 Brunei     10.48\n",
       "124               Grenada      10.5\n",
       "221             Mauritius     10.59\n",
       "116                Panama      10.7\n",
       "227            Seychelles     10.77\n",
       "94   United Arab Emirates     10.92\n",
       "105              Barbados     10.93"
      ]
     },
     "execution_count": 98,
     "metadata": {},
     "output_type": "execute_result"
    }
   ],
   "source": [
    "import pandas as pd\n",
    "document = ET.parse('data/mondial_database.xml')\n",
    "df = pd.DataFrame(columns=('Name','Mortality'))\n",
    "i=0\n",
    "for element in document.iterfind('country'):\n",
    "    if(element.find('infant_mortality')!= None):\n",
    "        row={'Name':element.find('name').text ,'Mortality': element.find('infant_mortality').text}\n",
    "        #print row['Name']\n",
    "        row_s = pd.Series(row)\n",
    "        row_s.name=i\n",
    "        i=i+1\n",
    "        df = df.append(row_s)\n",
    "    \n",
    "df    \n",
    "df=df.sort_values('Mortality',ascending=True)\n",
    "df.head(10)    \n",
    "    \n",
    "    "
   ]
  },
  {
   "cell_type": "markdown",
   "metadata": {},
   "source": [
    "## 10 cities with the largest population"
   ]
  },
  {
   "cell_type": "code",
   "execution_count": 99,
   "metadata": {
    "collapsed": false
   },
   "outputs": [
    {
     "data": {
      "text/html": [
       "<div>\n",
       "<table border=\"1\" class=\"dataframe\">\n",
       "  <thead>\n",
       "    <tr style=\"text-align: right;\">\n",
       "      <th></th>\n",
       "      <th>Country</th>\n",
       "      <th>CityId</th>\n",
       "      <th>City</th>\n",
       "      <th>Year</th>\n",
       "      <th>Population</th>\n",
       "    </tr>\n",
       "  </thead>\n",
       "  <tbody>\n",
       "    <tr>\n",
       "      <th>165</th>\n",
       "      <td>Germany</td>\n",
       "      <td>cty-Germany-63</td>\n",
       "      <td>Cottbus</td>\n",
       "      <td>2011</td>\n",
       "      <td>99984</td>\n",
       "    </tr>\n",
       "    <tr>\n",
       "      <th>183</th>\n",
       "      <td>Germany</td>\n",
       "      <td>cty-Germany-79</td>\n",
       "      <td>Hildesheim</td>\n",
       "      <td>2011</td>\n",
       "      <td>99554</td>\n",
       "    </tr>\n",
       "    <tr>\n",
       "      <th>387</th>\n",
       "      <td>United Kingdom</td>\n",
       "      <td>cty-United-Kingdom-12</td>\n",
       "      <td>Wakefield</td>\n",
       "      <td>2011</td>\n",
       "      <td>99251</td>\n",
       "    </tr>\n",
       "    <tr>\n",
       "      <th>210</th>\n",
       "      <td>Germany</td>\n",
       "      <td>cty-Germany-73</td>\n",
       "      <td>Siegen</td>\n",
       "      <td>2011</td>\n",
       "      <td>99187</td>\n",
       "    </tr>\n",
       "    <tr>\n",
       "      <th>182</th>\n",
       "      <td>Germany</td>\n",
       "      <td>cty-Germany-70</td>\n",
       "      <td>Salzgitter</td>\n",
       "      <td>2011</td>\n",
       "      <td>98895</td>\n",
       "    </tr>\n",
       "    <tr>\n",
       "      <th>346</th>\n",
       "      <td>Romania</td>\n",
       "      <td>cty-Romania-Ramnicu-Valcea</td>\n",
       "      <td>Râmnicu Vâlcea</td>\n",
       "      <td>2011</td>\n",
       "      <td>98776</td>\n",
       "    </tr>\n",
       "    <tr>\n",
       "      <th>144</th>\n",
       "      <td>Czech Republic</td>\n",
       "      <td>cty-Czech-Usti-nad-Labem</td>\n",
       "      <td>Ústí nad Labem</td>\n",
       "      <td>2011</td>\n",
       "      <td>98596</td>\n",
       "    </tr>\n",
       "    <tr>\n",
       "      <th>385</th>\n",
       "      <td>United Kingdom</td>\n",
       "      <td>cty-United-Kingdom-84</td>\n",
       "      <td>Preston</td>\n",
       "      <td>2011</td>\n",
       "      <td>97886</td>\n",
       "    </tr>\n",
       "    <tr>\n",
       "      <th>377</th>\n",
       "      <td>United Kingdom</td>\n",
       "      <td>cty-United-Kingdom-37</td>\n",
       "      <td>Oldham</td>\n",
       "      <td>2011</td>\n",
       "      <td>96555</td>\n",
       "    </tr>\n",
       "    <tr>\n",
       "      <th>212</th>\n",
       "      <td>Germany</td>\n",
       "      <td>cty-Germany-80</td>\n",
       "      <td>Witten</td>\n",
       "      <td>2011</td>\n",
       "      <td>96382</td>\n",
       "    </tr>\n",
       "  </tbody>\n",
       "</table>\n",
       "</div>"
      ],
      "text/plain": [
       "            Country                      CityId            City  Year  \\\n",
       "165         Germany              cty-Germany-63         Cottbus  2011   \n",
       "183         Germany              cty-Germany-79      Hildesheim  2011   \n",
       "387  United Kingdom       cty-United-Kingdom-12       Wakefield  2011   \n",
       "210         Germany              cty-Germany-73          Siegen  2011   \n",
       "182         Germany              cty-Germany-70      Salzgitter  2011   \n",
       "346         Romania  cty-Romania-Ramnicu-Valcea  Râmnicu Vâlcea  2011   \n",
       "144  Czech Republic    cty-Czech-Usti-nad-Labem  Ústí nad Labem  2011   \n",
       "385  United Kingdom       cty-United-Kingdom-84         Preston  2011   \n",
       "377  United Kingdom       cty-United-Kingdom-37          Oldham  2011   \n",
       "212         Germany              cty-Germany-80          Witten  2011   \n",
       "\n",
       "    Population  \n",
       "165      99984  \n",
       "183      99554  \n",
       "387      99251  \n",
       "210      99187  \n",
       "182      98895  \n",
       "346      98776  \n",
       "144      98596  \n",
       "385      97886  \n",
       "377      96555  \n",
       "212      96382  "
      ]
     },
     "execution_count": 99,
     "metadata": {},
     "output_type": "execute_result"
    }
   ],
   "source": [
    "import pandas as pd\n",
    "document = ET.parse('data/mondial_database.xml')\n",
    "df3 = pd.DataFrame(columns=('Country','CityId','City','Year','Population'))\n",
    "k=0\n",
    "for element in document.iterfind('country'):\n",
    "    for elementCity in element.findall('city'):\n",
    "        #print (elementCity.attrib['id'])\n",
    "        #print (elementCity.find('name').text)\n",
    "        for population in elementCity.findall('population'):\n",
    "            #print (population.attrib['year'])\n",
    "            #print (population.text)\n",
    "            if(population.attrib['year']=='2011'):\n",
    "                row={'Country':element.find('name').text ,'CityId':elementCity.attrib['id'],'City':elementCity.find('name').text,\\\n",
    "                'Year':population.attrib['year'],'Population':population.text}\n",
    "                row_s = pd.Series(row)\n",
    "                row_s.name=k\n",
    "                k=k+1\n",
    "                df3 = df3.append(row_s)\n",
    "    for province in element.findall('province'):\n",
    "        for elementCity in province.findall('city'):\n",
    "            #print (elementCity.attrib['id'])\n",
    "            #print (elementCity.find('name').text)\n",
    "            for population in elementCity.findall('population'):\n",
    "                #print (population.attrib['year'])\n",
    "                #print (population.text)\n",
    "                if(population.attrib['year']=='2011'):\n",
    "                    row={'Country':element.find('name').text ,'CityId':elementCity.attrib['id'],'City':elementCity.find('name').text,\\\n",
    "                    'Year':population.attrib['year'],'Population':population.text}\n",
    "                    row_s = pd.Series(row)\n",
    "                    row_s.name=k\n",
    "                    k=k+1\n",
    "                    df3 = df3.append(row_s)  \n",
    "                      \n",
    "    \n",
    "df3=df3.sort_values('Population',ascending=False)\n",
    "df3.head(10)"
   ]
  },
  {
   "cell_type": "markdown",
   "metadata": {},
   "source": [
    "## 10 ethnic groups with the largest overall populations (sum of best/latest estimates over all countries)"
   ]
  },
  {
   "cell_type": "code",
   "execution_count": 100,
   "metadata": {
    "collapsed": false
   },
   "outputs": [
    {
     "data": {
      "text/html": [
       "<div>\n",
       "<table border=\"1\" class=\"dataframe\">\n",
       "  <thead>\n",
       "    <tr style=\"text-align: right;\">\n",
       "      <th></th>\n",
       "      <th>EthnicGroup</th>\n",
       "      <th>Population</th>\n",
       "    </tr>\n",
       "  </thead>\n",
       "  <tbody>\n",
       "    <tr>\n",
       "      <th>120</th>\n",
       "      <td>Indo-Aryan</td>\n",
       "      <td>871815583.0</td>\n",
       "    </tr>\n",
       "    <tr>\n",
       "      <th>77</th>\n",
       "      <td>Dravidian</td>\n",
       "      <td>302713744.0</td>\n",
       "    </tr>\n",
       "    <tr>\n",
       "      <th>2</th>\n",
       "      <td>African</td>\n",
       "      <td>166391980.0</td>\n",
       "    </tr>\n",
       "    <tr>\n",
       "      <th>42</th>\n",
       "      <td>Bengali</td>\n",
       "      <td>146776916.0</td>\n",
       "    </tr>\n",
       "    <tr>\n",
       "      <th>105</th>\n",
       "      <td>German</td>\n",
       "      <td>74278483.0</td>\n",
       "    </tr>\n",
       "    <tr>\n",
       "      <th>84</th>\n",
       "      <td>English</td>\n",
       "      <td>52820300.0</td>\n",
       "    </tr>\n",
       "    <tr>\n",
       "      <th>173</th>\n",
       "      <td>Mediterranean Nordic</td>\n",
       "      <td>46815916.0</td>\n",
       "    </tr>\n",
       "    <tr>\n",
       "      <th>206</th>\n",
       "      <td>Persian</td>\n",
       "      <td>38326331.0</td>\n",
       "    </tr>\n",
       "    <tr>\n",
       "      <th>208</th>\n",
       "      <td>Polish</td>\n",
       "      <td>38018418.0</td>\n",
       "    </tr>\n",
       "    <tr>\n",
       "      <th>184</th>\n",
       "      <td>Mongol</td>\n",
       "      <td>36325649.0</td>\n",
       "    </tr>\n",
       "  </tbody>\n",
       "</table>\n",
       "</div>"
      ],
      "text/plain": [
       "              EthnicGroup   Population\n",
       "120            Indo-Aryan  871815583.0\n",
       "77              Dravidian  302713744.0\n",
       "2                 African  166391980.0\n",
       "42                Bengali  146776916.0\n",
       "105                German   74278483.0\n",
       "84                English   52820300.0\n",
       "173  Mediterranean Nordic   46815916.0\n",
       "206               Persian   38326331.0\n",
       "208                Polish   38018418.0\n",
       "184                Mongol   36325649.0"
      ]
     },
     "execution_count": 100,
     "metadata": {},
     "output_type": "execute_result"
    }
   ],
   "source": [
    "import pandas as pd\n",
    "document = ET.parse('data/mondial_database.xml')\n",
    "df4 = pd.DataFrame(columns=('Country','EthnicGroup','Population'))\n",
    "k=0\n",
    "for element in document.iterfind('country'):\n",
    "    varpopulation=0\n",
    "    for population in element.findall('population'):\n",
    "        if(population.attrib['year']=='2011'):\n",
    "            varpopulation=int(population.text)\n",
    "    for ethnicgroup in element.findall('ethnicgroup'):\n",
    "        percent=float(ethnicgroup.attrib['percentage'])/100\n",
    "        row={'Country':element.find('name').text ,'EthnicGroup':ethnicgroup.text,\\\n",
    "             'Population':int(varpopulation*percent)}\n",
    "        row_s = pd.Series(row)\n",
    "        row_s.name=k\n",
    "        k=k+1\n",
    "        df4 = df4.append(row_s)\n",
    "        \n",
    "#df4.head(10)\n",
    "df4=df4.groupby('EthnicGroup',as_index=False).sum()\n",
    "#df4.rein\n",
    "df4=df4.sort_values('Population',ascending=False)\n",
    "df4.head(10)\n",
    "#df5=df4[df4.EthnicGroup=='Albanian']\n",
    "#df5[('Population')].sum()#4805362"
   ]
  },
  {
   "cell_type": "markdown",
   "metadata": {},
   "source": [
    "## name and country of a) longest river, b) largest lake and c) airport at highest elevation"
   ]
  },
  {
   "cell_type": "code",
   "execution_count": 123,
   "metadata": {
    "collapsed": false
   },
   "outputs": [
    {
     "data": {
      "text/html": [
       "<div>\n",
       "<table border=\"1\" class=\"dataframe\">\n",
       "  <thead>\n",
       "    <tr style=\"text-align: right;\">\n",
       "      <th></th>\n",
       "      <th>RiverId</th>\n",
       "      <th>Name</th>\n",
       "      <th>Code</th>\n",
       "      <th>Length</th>\n",
       "      <th>Country</th>\n",
       "    </tr>\n",
       "  </thead>\n",
       "  <tbody>\n",
       "    <tr>\n",
       "      <th>75</th>\n",
       "      <td>river-Jangtse</td>\n",
       "      <td>Jangtse</td>\n",
       "      <td>CN</td>\n",
       "      <td>6380.0</td>\n",
       "      <td>China</td>\n",
       "    </tr>\n",
       "  </tbody>\n",
       "</table>\n",
       "</div>"
      ],
      "text/plain": [
       "          RiverId     Name Code  Length Country\n",
       "75  river-Jangtse  Jangtse   CN  6380.0   China"
      ]
     },
     "execution_count": 123,
     "metadata": {},
     "output_type": "execute_result"
    }
   ],
   "source": [
    "import pandas as pd\n",
    "document = ET.parse('data/mondial_database.xml')\n",
    "df4 = pd.DataFrame(columns=('Country','Code'))\n",
    "k=0\n",
    "for element in document.iterfind('country'):\n",
    "    #print (element.attrib['car_code'])\n",
    "    row={'Country':element.find('name').text ,'Code':element.attrib['car_code']}\n",
    "    row_s = pd.Series(row)\n",
    "    row_s.name=k\n",
    "    k=k+1\n",
    "    df4 = df4.append(row_s)\n",
    "#df4.head()\n",
    "\n",
    "dfRiver=pd.DataFrame(columns=('RiverId','Name','Code','Length'))\n",
    "k=0\n",
    "for element in document.iterfind('river'):\n",
    "    #print (element.attrib['id'])\n",
    "    if(element.find('length')!= None):\n",
    "        row={'RiverId':element.attrib['id'] ,'Name':element.find('name').text,'Code':element.attrib['country'],\\\n",
    "        'Length':float(element.find('length').text)}\n",
    "        row_s = pd.Series(row)\n",
    "        row_s.name=k\n",
    "        k=k+1\n",
    "        dfRiver = dfRiver.append(row_s)\n",
    "\n",
    "df5=pd.merge(dfRiver, df4, on='Code')\n",
    "#df5=dfRiver.join(df4)\n",
    "df5=df5.sort_values('Length',ascending=False)\n",
    "df5.head(1)"
   ]
  },
  {
   "cell_type": "code",
   "execution_count": 128,
   "metadata": {
    "collapsed": false
   },
   "outputs": [
    {
     "data": {
      "text/html": [
       "<div>\n",
       "<table border=\"1\" class=\"dataframe\">\n",
       "  <thead>\n",
       "    <tr style=\"text-align: right;\">\n",
       "      <th></th>\n",
       "      <th>LakeId</th>\n",
       "      <th>Name</th>\n",
       "      <th>Code</th>\n",
       "      <th>Area</th>\n",
       "      <th>Country</th>\n",
       "    </tr>\n",
       "  </thead>\n",
       "  <tbody>\n",
       "    <tr>\n",
       "      <th>75</th>\n",
       "      <td>lake-Lake_Michigan</td>\n",
       "      <td>Lake Michigan</td>\n",
       "      <td>USA</td>\n",
       "      <td>57800.0</td>\n",
       "      <td>United States</td>\n",
       "    </tr>\n",
       "    <tr>\n",
       "      <th>68</th>\n",
       "      <td>lake-Great_Bear_Lake</td>\n",
       "      <td>Great Bear Lake</td>\n",
       "      <td>CDN</td>\n",
       "      <td>31792.0</td>\n",
       "      <td>Canada</td>\n",
       "    </tr>\n",
       "    <tr>\n",
       "      <th>35</th>\n",
       "      <td>lake-Baikalsee</td>\n",
       "      <td>Ozero Baikal</td>\n",
       "      <td>R</td>\n",
       "      <td>31492.0</td>\n",
       "      <td>Russia</td>\n",
       "    </tr>\n",
       "    <tr>\n",
       "      <th>69</th>\n",
       "      <td>lake-Great_Slave_Lake</td>\n",
       "      <td>Great Slave Lake</td>\n",
       "      <td>CDN</td>\n",
       "      <td>28568.0</td>\n",
       "      <td>Canada</td>\n",
       "    </tr>\n",
       "    <tr>\n",
       "      <th>71</th>\n",
       "      <td>lake-Lake_Winnipeg</td>\n",
       "      <td>Lake Winnipeg</td>\n",
       "      <td>CDN</td>\n",
       "      <td>24420.0</td>\n",
       "      <td>Canada</td>\n",
       "    </tr>\n",
       "  </tbody>\n",
       "</table>\n",
       "</div>"
      ],
      "text/plain": [
       "                   LakeId              Name Code     Area        Country\n",
       "75     lake-Lake_Michigan     Lake Michigan  USA  57800.0  United States\n",
       "68   lake-Great_Bear_Lake   Great Bear Lake  CDN  31792.0         Canada\n",
       "35         lake-Baikalsee      Ozero Baikal    R  31492.0         Russia\n",
       "69  lake-Great_Slave_Lake  Great Slave Lake  CDN  28568.0         Canada\n",
       "71     lake-Lake_Winnipeg     Lake Winnipeg  CDN  24420.0         Canada"
      ]
     },
     "execution_count": 128,
     "metadata": {},
     "output_type": "execute_result"
    }
   ],
   "source": [
    "dfLake=pd.DataFrame(columns=('LakeId','Name','Code','Area'))\n",
    "k=0\n",
    "for element in document.iterfind('lake'):\n",
    "    #print (element.attrib['id'])\n",
    "    if(element.find('area')!= None):\n",
    "        row={'LakeId':element.attrib['id'] ,'Name':element.find('name').text,'Code':element.attrib['country'],\\\n",
    "        'Area':float(element.find('area').text)}\n",
    "        row_s = pd.Series(row)\n",
    "        row_s.name=k\n",
    "        k=k+1\n",
    "        dfLake = dfLake.append(row_s)\n",
    "#dfLake\n",
    "df5=pd.merge(dfLake, df4, on='Code')\n",
    "#df5=dfRiver.join(df4)\n",
    "df5=df5.sort_values('Area',ascending=False)\n",
    "df5.head(1)"
   ]
  },
  {
   "cell_type": "code",
   "execution_count": 138,
   "metadata": {
    "collapsed": false
   },
   "outputs": [
    {
     "data": {
      "text/html": [
       "<div>\n",
       "<table border=\"1\" class=\"dataframe\">\n",
       "  <thead>\n",
       "    <tr style=\"text-align: right;\">\n",
       "      <th></th>\n",
       "      <th>IataCode</th>\n",
       "      <th>Name</th>\n",
       "      <th>Code</th>\n",
       "      <th>Elevation</th>\n",
       "      <th>Country</th>\n",
       "    </tr>\n",
       "  </thead>\n",
       "  <tbody>\n",
       "    <tr>\n",
       "      <th>80</th>\n",
       "      <td>LPB</td>\n",
       "      <td>El Alto Intl</td>\n",
       "      <td>BOL</td>\n",
       "      <td>4063.0</td>\n",
       "      <td>Bolivia</td>\n",
       "    </tr>\n",
       "    <tr>\n",
       "      <th>212</th>\n",
       "      <td>LXA</td>\n",
       "      <td>Lhasa-Gonggar</td>\n",
       "      <td>CN</td>\n",
       "      <td>4005.0</td>\n",
       "      <td>China</td>\n",
       "    </tr>\n",
       "    <tr>\n",
       "      <th>230</th>\n",
       "      <td>YUS</td>\n",
       "      <td>Yushu Batang</td>\n",
       "      <td>CN</td>\n",
       "      <td>3963.0</td>\n",
       "      <td>China</td>\n",
       "    </tr>\n",
       "    <tr>\n",
       "      <th>787</th>\n",
       "      <td>JUL</td>\n",
       "      <td>Juliaca</td>\n",
       "      <td>PE</td>\n",
       "      <td>3827.0</td>\n",
       "      <td>Peru</td>\n",
       "    </tr>\n",
       "    <tr>\n",
       "      <th>789</th>\n",
       "      <td>CUZ</td>\n",
       "      <td>Teniente Alejandro Velasco Astete Intl</td>\n",
       "      <td>PE</td>\n",
       "      <td>3311.0</td>\n",
       "      <td>Peru</td>\n",
       "    </tr>\n",
       "  </tbody>\n",
       "</table>\n",
       "</div>"
      ],
      "text/plain": [
       "    IataCode                                    Name Code  Elevation  Country\n",
       "80       LPB                            El Alto Intl  BOL     4063.0  Bolivia\n",
       "212      LXA                           Lhasa-Gonggar   CN     4005.0    China\n",
       "230      YUS                            Yushu Batang   CN     3963.0    China\n",
       "787      JUL                                 Juliaca   PE     3827.0     Peru\n",
       "789      CUZ  Teniente Alejandro Velasco Astete Intl   PE     3311.0     Peru"
      ]
     },
     "execution_count": 138,
     "metadata": {},
     "output_type": "execute_result"
    }
   ],
   "source": [
    "dfAirport=pd.DataFrame(columns=('IataCode','Name','Code','Elevation'))\n",
    "k=0\n",
    "for element in document.iterfind('airport'):\n",
    "    if(element.find('elevation').text!= None):\n",
    "        row={'IataCode':element.attrib['iatacode'] ,'Name':element.find('name').text,'Code':element.attrib['country'],\\\n",
    "        'Elevation':float(element.find('elevation').text)}\n",
    "        row_s = pd.Series(row)\n",
    "        row_s.name=k\n",
    "        k=k+1\n",
    "        dfAirport = dfAirport.append(row_s)\n",
    "        \n",
    "#dfAirport\n",
    "df5=pd.merge(dfAirport, df4, on='Code')\n",
    "#df5=dfRiver.join(df4)\n",
    "df5=df5.sort_values('Elevation',ascending=False)\n",
    "df5.head(1)"
   ]
  },
  {
   "cell_type": "code",
   "execution_count": null,
   "metadata": {
    "collapsed": true
   },
   "outputs": [],
   "source": []
  }
 ],
 "metadata": {
  "kernelspec": {
   "display_name": "Python [Root]",
   "language": "python",
   "name": "Python [Root]"
  },
  "language_info": {
   "codemirror_mode": {
    "name": "ipython",
    "version": 3
   },
   "file_extension": ".py",
   "mimetype": "text/x-python",
   "name": "python",
   "nbconvert_exporter": "python",
   "pygments_lexer": "ipython3",
   "version": "3.5.1"
  }
 },
 "nbformat": 4,
 "nbformat_minor": 0
}
